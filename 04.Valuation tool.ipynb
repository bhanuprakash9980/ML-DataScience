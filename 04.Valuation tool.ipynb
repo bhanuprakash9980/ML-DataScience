{
 "metadata": {
  "language_info": {
   "codemirror_mode": {
    "name": "ipython",
    "version": 3
   },
   "file_extension": ".py",
   "mimetype": "text/x-python",
   "name": "python",
   "nbconvert_exporter": "python",
   "pygments_lexer": "ipython3",
   "version": "3.8.3"
  },
  "orig_nbformat": 2,
  "kernelspec": {
   "name": "python383jvsc74a57bd0e8f9e9d72660e9ab007d567aeb5a9d53813544ad340b6d880a4d2c732ed22138",
   "display_name": "Python 3.8.3 64-bit (conda)"
  }
 },
 "nbformat": 4,
 "nbformat_minor": 2,
 "cells": [
  {
   "cell_type": "code",
   "execution_count": 25,
   "metadata": {},
   "outputs": [],
   "source": [
    "from sklearn.datasets import load_boston\n",
    "from sklearn.linear_model import LinearRegression\n",
    "from sklearn.metrics import mean_squared_error\n",
    "\n",
    "import pandas as pd \n",
    "import numpy as np"
   ]
  },
  {
   "cell_type": "code",
   "execution_count": 26,
   "metadata": {},
   "outputs": [],
   "source": [
    "# Gather Data\n",
    "boston_dataset = load_boston()\n",
    "data = pd.DataFrame(data=boston_dataset.data,columns=boston_dataset.feature_names)\n",
    "features = data.drop(['INDUS','AGE'],axis=1)\n",
    "\n",
    "log_prices = np.log(boston_dataset.target)\n",
    "target = pd.DataFrame(log_prices,columns=['PRICE'])\n"
   ]
  },
  {
   "cell_type": "code",
   "execution_count": 27,
   "metadata": {},
   "outputs": [],
   "source": [
    "CRIME_IDX =0\n",
    "ZN_IDX =1\n",
    "CHAS_IDX =2\n",
    "RM_IDX=4\n",
    "PTRATIO_IDX=8\n",
    "\n",
    "# property_stats = np.ndarray(shape=(1,11))\n",
    "# property_stats[0][CRIME_IDX]=features['CRIM'].mean()\n",
    "# property_stats[0][ZN_IDX]=features['ZN'].mean()\n",
    "# property_stats[0][CHAS_IDX]=features['CHAS'].mean()\n",
    "\n",
    "property_stats = features.mean().values.reshape(1,11)\n"
   ]
  },
  {
   "cell_type": "code",
   "execution_count": 28,
   "metadata": {},
   "outputs": [],
   "source": [
    "regr = LinearRegression().fit(features,target)\n",
    "fitted_vals=regr.predict(features)\n",
    "\n",
    "#Challenge: Calculate MSE and RMSE using sklearn\n",
    "MSE = mean_squared_error(target,fitted_vals)\n",
    "RMSE = np.sqrt(MSE)\n"
   ]
  },
  {
   "cell_type": "code",
   "execution_count": 29,
   "metadata": {},
   "outputs": [],
   "source": [
    "def get_log_estimate(nr_room,students_per_classroom,next_to_river=False,high_confidence=True):\n",
    "\n",
    "    # Configure property\n",
    "    property_stats[0][RM_IDX]=nr_room\n",
    "    property_stats[0][PTRATIO_IDX]=students_per_classroom\n",
    "    if(next_to_river):\n",
    "        property_stats[0][CHAS_IDX]=1\n",
    "    else:\n",
    "        property_stats[0][CHAS_IDX]=0\n",
    "\n",
    "    # Make Prediction\n",
    "    log_estimate = regr.predict(property_stats)[0][0]    \n",
    "\n",
    "    # Calc Range    \n",
    "    if(high_confidence):\n",
    "        upper_bound=log_estimate+ 2*RMSE\n",
    "        lower_bound=log_estimate-2*RMSE\n",
    "        interval=95\n",
    "\n",
    "    else:\n",
    "        upper_bound=log_estimate+ RMSE\n",
    "        lower_bound=log_estimate- RMSE\n",
    "        interval=68\n",
    "\n",
    "\n",
    "    return log_estimate,upper_bound,lower_bound,interval"
   ]
  },
  {
   "cell_type": "code",
   "execution_count": 30,
   "metadata": {},
   "outputs": [],
   "source": [
    "def get_dollar_estimate(rm,ptratio,chas=False,large_range=True):\n",
    "    #Challenge: Writethe python code to convertlog price using 1970s prices as well as upper and lower bounds to today's prices Round the value to 1000 dollars\n",
    "    \"\"\"Estimate the price of a property in Boston.\n",
    "\n",
    "    Keyword arguments:\n",
    "    rm -- number of rooms in the property.\n",
    "    ptratio -- number of students per teacher in the classroom for the school in area.\n",
    "    chas -- True if the property is next to the river, False otherwise.\n",
    "    large_range -- True for a 95% prediction interval, False for 68% interval.\n",
    "    \"\"\"\n",
    "    if rm < 1 or ptratio < 1:\n",
    "        print('This is unrealistic. Try Again')\n",
    "        return\n",
    "    ZILLOW_MEDIAN_PRICE = 583.3\n",
    "    SCALE_FACTOR = ZILLOW_MEDIAN_PRICE/np.median(boston_dataset.target)\n",
    "\n",
    "    log_est,upper,lower,conf = get_log_estimate(rm,students_per_classroom=ptratio,next_to_river=chas,high_confidence=large_range)\n",
    "\n",
    "    # convert today's dollar\n",
    "    dollar_est = (np.e**log_est)*1000*SCALE_FACTOR\n",
    "    dollar_hi = (np.e**upper)*1000*SCALE_FACTOR\n",
    "    dollar_low = (np.e**lower)*1000*SCALE_FACTOR\n",
    "\n",
    "    #round the dollar to nearest thousand\n",
    "    round_est= np.around(dollar_est,-3)\n",
    "    round_hi= np.around(dollar_hi,-3)\n",
    "    round_low= np.around(dollar_low,-3)\n",
    "\n",
    "    print(f'The estimated property value is {round_est}. ')\n",
    "    print(f'At {conf}% confidence the valuation range is')\n",
    "    print(f'USD {round_low} at the lower end to {round_hi} at the higher end. ')\n"
   ]
  },
  {
   "cell_type": "code",
   "execution_count": 31,
   "metadata": {},
   "outputs": [
    {
     "output_type": "stream",
     "name": "stdout",
     "text": [
      "The estimated property value is 278000.0. \nAt 95% confidence the valuation range is\nUSD 191000.0 at the lower end to 404000.0 at the higher end. \n"
     ]
    }
   ],
   "source": [
    "get_dollar_estimate(rm=2,ptratio=30,chas=True)"
   ]
  },
  {
   "cell_type": "code",
   "execution_count": 32,
   "metadata": {},
   "outputs": [],
   "source": [
    "import boston_valuation as val"
   ]
  },
  {
   "cell_type": "code",
   "execution_count": 33,
   "metadata": {},
   "outputs": [
    {
     "output_type": "stream",
     "name": "stdout",
     "text": [
      "The estimated property value is 783000.0. \nAt 95% confidence the valuation range is\nUSD 538000.0 at the lower end to 1139000.0 at the higher end. \n"
     ]
    }
   ],
   "source": [
    "val.get_dollar_estimate(6,12,True)"
   ]
  },
  {
   "cell_type": "code",
   "execution_count": 34,
   "metadata": {},
   "outputs": [
    {
     "output_type": "stream",
     "name": "stdout",
     "text": [
      "The estimated property value is 755000.0. \nAt 95% confidence the valuation range is\nUSD 519000.0 at the lower end to 1099000.0 at the higher end. \n"
     ]
    }
   ],
   "source": [
    "val.get_dollar_estimate(8,15,False)"
   ]
  },
  {
   "cell_type": "code",
   "execution_count": null,
   "metadata": {},
   "outputs": [],
   "source": []
  }
 ]
}